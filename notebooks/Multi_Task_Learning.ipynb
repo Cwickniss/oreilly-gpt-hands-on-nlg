{
 "cells": [
  {
   "cell_type": "markdown",
   "id": "de5138c6",
   "metadata": {},
   "source": [
    "## Teaching GPT multiple tasks at once with prompt engineering"
   ]
  },
  {
   "cell_type": "code",
   "execution_count": 2,
   "id": "c74f0e7d",
   "metadata": {},
   "outputs": [],
   "source": [
    "from transformers import Trainer, TrainingArguments, DataCollatorForLanguageModeling, GPT2LMHeadModel, pipeline, \\\n",
    "                         GPT2Tokenizer\n",
    "import pandas as pd\n",
    "from datasets import Dataset"
   ]
  },
  {
   "cell_type": "code",
   "execution_count": null,
   "id": "7463affd",
   "metadata": {},
   "outputs": [],
   "source": []
  },
  {
   "cell_type": "code",
   "execution_count": 166,
   "id": "06be4764",
   "metadata": {},
   "outputs": [
    {
     "name": "stdout",
     "output_type": "stream",
     "text": [
      "(96512, 3)\n"
     ]
    },
    {
     "data": {
      "text/html": [
       "<div>\n",
       "<style scoped>\n",
       "    .dataframe tbody tr th:only-of-type {\n",
       "        vertical-align: middle;\n",
       "    }\n",
       "\n",
       "    .dataframe tbody tr th {\n",
       "        vertical-align: top;\n",
       "    }\n",
       "\n",
       "    .dataframe thead th {\n",
       "        text-align: right;\n",
       "    }\n",
       "</style>\n",
       "<table border=\"1\" class=\"dataframe\">\n",
       "  <thead>\n",
       "    <tr style=\"text-align: right;\">\n",
       "      <th></th>\n",
       "      <th>Text</th>\n",
       "      <th>Summary</th>\n",
       "      <th>Score</th>\n",
       "    </tr>\n",
       "  </thead>\n",
       "  <tbody>\n",
       "    <tr>\n",
       "      <th>0</th>\n",
       "      <td>Great taffy at a great price.  There was a wid...</td>\n",
       "      <td>Great taffy</td>\n",
       "      <td>5</td>\n",
       "    </tr>\n",
       "    <tr>\n",
       "      <th>1</th>\n",
       "      <td>This taffy is so good.  It is very soft and ch...</td>\n",
       "      <td>Wonderful, tasty taffy</td>\n",
       "      <td>5</td>\n",
       "    </tr>\n",
       "    <tr>\n",
       "      <th>2</th>\n",
       "      <td>Right now I'm mostly just sprouting this so my...</td>\n",
       "      <td>Yay Barley</td>\n",
       "      <td>5</td>\n",
       "    </tr>\n",
       "    <tr>\n",
       "      <th>3</th>\n",
       "      <td>This is a very healthy dog food. Good for thei...</td>\n",
       "      <td>Healthy Dog Food</td>\n",
       "      <td>5</td>\n",
       "    </tr>\n",
       "    <tr>\n",
       "      <th>4</th>\n",
       "      <td>good flavor! these came securely packed... the...</td>\n",
       "      <td>fresh and greasy!</td>\n",
       "      <td>4</td>\n",
       "    </tr>\n",
       "  </tbody>\n",
       "</table>\n",
       "</div>"
      ],
      "text/plain": [
       "                                                Text                 Summary  \\\n",
       "0  Great taffy at a great price.  There was a wid...             Great taffy   \n",
       "1  This taffy is so good.  It is very soft and ch...  Wonderful, tasty taffy   \n",
       "2  Right now I'm mostly just sprouting this so my...              Yay Barley   \n",
       "3  This is a very healthy dog food. Good for thei...        Healthy Dog Food   \n",
       "4  good flavor! these came securely packed... the...       fresh and greasy!   \n",
       "\n",
       "   Score  \n",
       "0      5  \n",
       "1      5  \n",
       "2      5  \n",
       "3      5  \n",
       "4      4  "
      ]
     },
     "execution_count": 166,
     "metadata": {},
     "output_type": "execute_result"
    }
   ],
   "source": [
    "# https://www.kaggle.com/snap/amazon-fine-food-reviews?select=Reviews.csv\n",
    "\n",
    "reviews = pd.read_csv('../data/reviews.csv')\n",
    "\n",
    "print(reviews.shape)\n",
    "\n",
    "reviews.head()"
   ]
  },
  {
   "cell_type": "code",
   "execution_count": 3,
   "id": "9c02af40",
   "metadata": {},
   "outputs": [
    {
     "data": {
      "text/plain": [
       "<AxesSubplot:title={'center':'Histogram of Review Length'}, ylabel='Frequency'>"
      ]
     },
     "execution_count": 3,
     "metadata": {},
     "output_type": "execute_result"
    },
    {
     "data": {
      "image/png": "[encoded data removed]",
      "text/plain": [
       "<Figure size 432x288 with 1 Axes>"
      ]
     },
     "metadata": {
      "needs_background": "light"
     },
     "output_type": "display_data"
    }
   ],
   "source": [
    "reviews['Text'].str.len().plot(kind='hist', title='Histogram of Review Length')"
   ]
  },
  {
   "cell_type": "code",
   "execution_count": 4,
   "id": "7d355929",
   "metadata": {},
   "outputs": [
    {
     "data": {
      "text/plain": [
       "<AxesSubplot:title={'center':'Histogram of Summary Length'}, ylabel='Frequency'>"
      ]
     },
     "execution_count": 4,
     "metadata": {},
     "output_type": "execute_result"
    },
    {
     "data": {
      "image/png": "[encoded data removed]",
      "text/plain": [
       "<Figure size 432x288 with 1 Axes>"
      ]
     },
     "metadata": {
      "needs_background": "light"
     },
     "output_type": "display_data"
    }
   ],
   "source": [
    "reviews['Summary'].str.len().plot(kind='hist', title='Histogram of Summary Length')"
   ]
  },
  {
   "cell_type": "code",
   "execution_count": 5,
   "id": "e068184e",
   "metadata": {},
   "outputs": [
    {
     "data": {
      "text/plain": [
       "<AxesSubplot:title={'center':'Histogram of Summary Length'}, ylabel='Frequency'>"
      ]
     },
     "execution_count": 5,
     "metadata": {},
     "output_type": "execute_result"
    },
    {
     "data": {
      "image/png": "[encoded data removed]",
      "text/plain": [
       "<Figure size 432x288 with 1 Axes>"
      ]
     },
     "metadata": {
      "needs_background": "light"
     },
     "output_type": "display_data"
    }
   ],
   "source": [
    "# remove very short and very long summaries\n",
    "reviews = reviews[(reviews['Summary'].str.len() < 50)]\n",
    "\n",
    "reviews['Summary'].str.len().plot(kind='hist', title='Histogram of Summary Length')"
   ]
  },
  {
   "cell_type": "code",
   "execution_count": 6,
   "id": "7a998511",
   "metadata": {},
   "outputs": [
    {
     "data": {
      "text/plain": [
       "<AxesSubplot:>"
      ]
     },
     "execution_count": 6,
     "metadata": {},
     "output_type": "execute_result"
    },
    {
     "data": {
      "image/png": "[encoded data removed]",
      "text/plain": [
       "<Figure size 432x288 with 1 Axes>"
      ]
     },
     "metadata": {
      "needs_background": "light"
     },
     "output_type": "display_data"
    }
   ],
   "source": [
    "reviews['Score'].hist()"
   ]
  },
  {
   "cell_type": "code",
   "execution_count": 7,
   "id": "683c807d",
   "metadata": {},
   "outputs": [
    {
     "data": {
      "text/plain": [
       "<AxesSubplot:>"
      ]
     },
     "execution_count": 7,
     "metadata": {},
     "output_type": "execute_result"
    },
    {
     "data": {
      "image/png": "[encoded data removed]",
      "text/plain": [
       "<Figure size 432x288 with 1 Axes>"
      ]
     },
     "metadata": {
      "needs_background": "light"
     },
     "output_type": "display_data"
    }
   ],
   "source": [
    "reviews['Sentiment'] = reviews['Score'].map(lambda x: 'positive' if x >= 4 else 'neutral' if x == 3 else 'negative')\n",
    "\n",
    "reviews['Sentiment'].hist()\n"
   ]
  },
  {
   "cell_type": "code",
   "execution_count": 8,
   "id": "b3bd1649",
   "metadata": {},
   "outputs": [
    {
     "data": {
      "text/plain": [
       "(15003, 4)"
      ]
     },
     "execution_count": 8,
     "metadata": {},
     "output_type": "execute_result"
    }
   ],
   "source": [
    "reviews = pd.concat(\n",
    "    [\n",
    "        reviews[reviews['Sentiment'] == 'positive'].sample(5000),\n",
    "        reviews[reviews['Sentiment'] == 'negative'].sample(5000),\n",
    "        reviews[reviews['Sentiment'] == 'neutral']\n",
    "    ]\n",
    ")\n",
    "\n",
    "reviews.shape"
   ]
  },
  {
   "cell_type": "code",
   "execution_count": null,
   "id": "0c3c1095",
   "metadata": {},
   "outputs": [],
   "source": []
  },
  {
   "cell_type": "code",
   "execution_count": 9,
   "id": "afe1936d",
   "metadata": {},
   "outputs": [
    {
     "data": {
      "text/plain": [
       "<AxesSubplot:>"
      ]
     },
     "execution_count": 9,
     "metadata": {},
     "output_type": "execute_result"
    },
    {
     "data": {
      "image/png": "[encoded data removed]",
      "text/plain": [
       "<Figure size 432x288 with 1 Axes>"
      ]
     },
     "metadata": {
      "needs_background": "light"
     },
     "output_type": "display_data"
    }
   ],
   "source": [
    "reviews['Sentiment'].hist()"
   ]
  },
  {
   "cell_type": "code",
   "execution_count": null,
   "id": "1e489d4c",
   "metadata": {},
   "outputs": [],
   "source": []
  },
  {
   "cell_type": "code",
   "execution_count": null,
   "id": "efb0ea6a",
   "metadata": {},
   "outputs": [],
   "source": []
  },
  {
   "cell_type": "code",
   "execution_count": 10,
   "id": "4ecc72e1",
   "metadata": {
    "scrolled": true
   },
   "outputs": [],
   "source": [
    "MODEL = 'distilgpt2'\n",
    "\n",
    "tokenizer = GPT2Tokenizer.from_pretrained(MODEL)\n",
    "\n",
    "tokenizer.pad_token = tokenizer.eos_token\n",
    "\n",
    "#add two prompts, one for each task\n",
    "SENTIMENT_PROMPT = 'Sentiment Task'\n",
    "SUMMARIZE_PROMPT = 'Summarize Task'\n",
    "SENTIMENT_TOKEN = '\\nSentiment:'\n",
    "SUMMARIZE_TOKEN = '\\nSummarize:'\n"
   ]
  },
  {
   "cell_type": "code",
   "execution_count": 11,
   "id": "690adf98",
   "metadata": {},
   "outputs": [],
   "source": [
    "reviews['sentiment_text'] = f'{SENTIMENT_PROMPT}\\nReview: ' + reviews['Text'] + SENTIMENT_TOKEN +  ' ' + reviews['Sentiment'].astype(str)\n",
    "\n",
    "reviews['summarize_text'] = f'{SUMMARIZE_PROMPT}\\nReview: ' + reviews['Text'] + SUMMARIZE_TOKEN +  ' ' + reviews['Summary'].astype(str)\n"
   ]
  },
  {
   "cell_type": "code",
   "execution_count": 12,
   "id": "d23b7afd",
   "metadata": {},
   "outputs": [
    {
     "data": {
      "text/plain": [
       "['Sentiment Task\\nReview: Great price.  Product smells great and flavors foods really well.  Perks up bland tastes.  Kicks up your cooking a notch.\\nSentiment: positive',\n",
       " 'Sentiment Task\\nReview: The Sugar Free Peach rings were delicious.  They are almost as good as the real peach rings, just not as tart.  I just ordered a second bag!!\\nSentiment: positive']"
      ]
     },
     "execution_count": 12,
     "metadata": {},
     "output_type": "execute_result"
    }
   ],
   "source": [
    "reviews['sentiment_text'].head(2).tolist()"
   ]
  },
  {
   "cell_type": "code",
   "execution_count": 13,
   "id": "cdee58b9",
   "metadata": {},
   "outputs": [
    {
     "name": "stdout",
     "output_type": "stream",
     "text": [
      "Sentiment Task\n",
      "Review: I just made this for lunch. It had almost no flavor, although it smelled heavenly for the first few minutes of cooking.\n",
      "Sentiment: negative\n"
     ]
    }
   ],
   "source": [
    "print('Sentiment Task\\nReview: I just made this for lunch. It had almost no flavor, although it smelled heavenly for the first few minutes of cooking.\\nSentiment: negative')"
   ]
  },
  {
   "cell_type": "code",
   "execution_count": 14,
   "id": "d804737d",
   "metadata": {},
   "outputs": [
    {
     "data": {
      "text/plain": [
       "['Summarize Task\\nReview: Great price.  Product smells great and flavors foods really well.  Perks up bland tastes.  Kicks up your cooking a notch.\\nSummarize: Smells sweet and smoky!',\n",
       " 'Summarize Task\\nReview: The Sugar Free Peach rings were delicious.  They are almost as good as the real peach rings, just not as tart.  I just ordered a second bag!!\\nSummarize: Almost as good as the real thing']"
      ]
     },
     "execution_count": 14,
     "metadata": {},
     "output_type": "execute_result"
    }
   ],
   "source": [
    "reviews['summarize_text'].head(2).tolist()"
   ]
  },
  {
   "cell_type": "code",
   "execution_count": 15,
   "id": "0b7fe460",
   "metadata": {},
   "outputs": [
    {
     "name": "stdout",
     "output_type": "stream",
     "text": [
      "Summarize Task\n",
      "Review: I just made this for lunch. It had almost no flavor, although it smelled heavenly for the first few minutes of cooking.\n",
      "Summarize: Not bad, but bland\n"
     ]
    }
   ],
   "source": [
    "print('Summarize Task\\nReview: I just made this for lunch. It had almost no flavor, although it smelled heavenly for the first few minutes of cooking.\\nSummarize: Not bad, but bland')"
   ]
  },
  {
   "cell_type": "code",
   "execution_count": null,
   "id": "aa096cc5",
   "metadata": {},
   "outputs": [],
   "source": []
  },
  {
   "cell_type": "code",
   "execution_count": 16,
   "id": "657237e0",
   "metadata": {},
   "outputs": [
    {
     "name": "stdout",
     "output_type": "stream",
     "text": [
      "30006\n"
     ]
    }
   ],
   "source": [
    "reviews = reviews.sample(frac=1)\n",
    "\n",
    "training_examples = reviews['summarize_text'].tolist() + reviews['sentiment_text'].tolist()\n",
    "\n",
    "print(len(training_examples))"
   ]
  },
  {
   "cell_type": "code",
   "execution_count": 17,
   "id": "34df23c0",
   "metadata": {},
   "outputs": [
    {
     "name": "stderr",
     "output_type": "stream",
     "text": [
      "Parameter 'function'=<function preprocess at 0x7fae18510310> of the transform datasets.arrow_dataset.Dataset._map_single couldn't be hashed properly, a random hash was used instead. Make sure your transforms and parameters are serializable with pickle or dill for the dataset fingerprinting and caching to work. If you reuse this transform, the caching mechanism will consider it to be different from the previous calls and recompute everything. This warning is only showed once. Subsequent hashing failures won't be showed.\n"
     ]
    },
    {
     "data": {
      "application/vnd.jupyter.widget-view+json": {
       "model_id": "1133242f8f6149039a2cbb49d89cd7c7",
       "version_major": 2,
       "version_minor": 0
      },
      "text/plain": [
       "  0%|          | 0/31 [00:00<?, ?ba/s]"
      ]
     },
     "metadata": {},
     "output_type": "display_data"
    }
   ],
   "source": [
    "multi_task_df = pd.DataFrame({'text': training_examples})\n",
    "\n",
    "data = Dataset.from_pandas(multi_task_df)\n",
    "\n",
    "def preprocess(examples):\n",
    "    return tokenizer(examples['text'], truncation=True)\n",
    "\n",
    "data = data.map(preprocess, batched=True)\n",
    "\n",
    "data = data.train_test_split(train_size=.9)"
   ]
  },
  {
   "cell_type": "code",
   "execution_count": null,
   "id": "8dac23a1",
   "metadata": {},
   "outputs": [],
   "source": []
  },
  {
   "cell_type": "code",
   "execution_count": 203,
   "id": "11f10eaa",
   "metadata": {},
   "outputs": [
    {
     "name": "stdout",
     "output_type": "stream",
     "text": [
      "<|endoftext|>Summarize Task\n",
      "Review: Decent corn. Del monte is better, and I prefer white corn, but this was ok. Quite wattery, so make sure you drain!\n",
      "Summarize: Decent<|endoftext|>\n"
     ]
    }
   ],
   "source": [
    "# NOTE it is common to manually add BOS (beginning of sentence) and EOS (end of sentence) tokens manually\n",
    "#  to stop the model from predicting past where you want it to. I am explicitly not doing that to show you what\n",
    "#  what GPT would do without those tokens. If you plan to use something like this in production, I would\n",
    "#  recommend adding in those tokens manually like so:\n",
    "\n",
    "print(multi_task_df['text'].map(lambda x: f'{tokenizer.bos_token}{x}{tokenizer.eos_token}')[0])\n",
    "\n",
    "# you may also want to make a different start, pad and eos token so that they aren't all the default <endoftext> token\n",
    "#  if you do, you may need to resize your model's tokenizer embedding"
   ]
  },
  {
   "cell_type": "code",
   "execution_count": null,
   "id": "024f7e4d",
   "metadata": {},
   "outputs": [],
   "source": []
  },
  {
   "cell_type": "code",
   "execution_count": 18,
   "id": "1c356604",
   "metadata": {
    "scrolled": true
   },
   "outputs": [],
   "source": [
    "model = GPT2LMHeadModel.from_pretrained(MODEL)"
   ]
  },
  {
   "cell_type": "code",
   "execution_count": 19,
   "id": "365f7b31",
   "metadata": {},
   "outputs": [],
   "source": [
    "data_collator = DataCollatorForLanguageModeling(tokenizer=tokenizer, mlm=False)"
   ]
  },
  {
   "cell_type": "code",
   "execution_count": null,
   "id": "6fb033e7",
   "metadata": {},
   "outputs": [],
   "source": []
  },
  {
   "cell_type": "code",
   "execution_count": 20,
   "id": "9b8b5abb",
   "metadata": {},
   "outputs": [
    {
     "name": "stderr",
     "output_type": "stream",
     "text": [
      "The following columns in the evaluation set don't have a corresponding argument in `GPT2LMHeadModel.forward` and have been ignored: text. If text are not expected by `GPT2LMHeadModel.forward`,  you can safely ignore this message.\n",
      "***** Running Evaluation *****\n",
      "  Num examples = 3001\n",
      "  Batch size = 32\n"
     ]
    },
    {
     "data": {
      "text/html": [
       "\n",
       "    <div>\n",
       "      \n",
       "      <progress value='188' max='94' style='width:300px; height:20px; vertical-align: middle;'></progress>\n",
       "      [94/94 6:00:26]\n",
       "    </div>\n",
       "    "
      ],
      "text/plain": [
       "<IPython.core.display.HTML object>"
      ]
     },
     "metadata": {},
     "output_type": "display_data"
    },
    {
     "data": {
      "text/plain": [
       "{'eval_loss': 5.0312018394470215,\n",
       " 'eval_runtime': 740.1346,\n",
       " 'eval_samples_per_second': 4.055,\n",
       " 'eval_steps_per_second': 0.127}"
      ]
     },
     "execution_count": 20,
     "metadata": {},
     "output_type": "execute_result"
    }
   ],
   "source": [
    "training_args = TrainingArguments(\n",
    "    output_dir=\"./gpt2_multitask\", #The output directory\n",
    "    overwrite_output_dir=True, #overwrite the content of the output directory\n",
    "    num_train_epochs=3, # number of training epochs\n",
    "    per_device_train_batch_size=32, # batch size for training\n",
    "    per_device_eval_batch_size=32,  # batch size for evaluation\n",
    "    logging_steps=50,\n",
    "    learning_rate=.001,\n",
    "    load_best_model_at_end=True,\n",
    "    evaluation_strategy='epoch',\n",
    "    save_strategy='epoch'\n",
    ")\n",
    "\n",
    "trainer = Trainer(\n",
    "    model=model,\n",
    "    args=training_args,\n",
    "    train_dataset=data['train'],\n",
    "    eval_dataset=data['test'],\n",
    "    data_collator=data_collator\n",
    ")\n",
    "\n",
    "trainer.evaluate()"
   ]
  },
  {
   "cell_type": "code",
   "execution_count": 21,
   "id": "0e34721f",
   "metadata": {
    "scrolled": true
   },
   "outputs": [
    {
     "name": "stderr",
     "output_type": "stream",
     "text": [
      "The following columns in the training set don't have a corresponding argument in `GPT2LMHeadModel.forward` and have been ignored: text. If text are not expected by `GPT2LMHeadModel.forward`,  you can safely ignore this message.\n",
      "/Users/sinanozdemir/opt/anaconda3/lib/python3.9/site-packages/transformers/optimization.py:306: FutureWarning: This implementation of AdamW is deprecated and will be removed in a future version. Use the PyTorch implementation torch.optim.AdamW instead, or set `no_deprecation_warning=True` to disable this warning\n",
      "  warnings.warn(\n",
      "***** Running training *****\n",
      "  Num examples = 27005\n",
      "  Num Epochs = 3\n",
      "  Instantaneous batch size per device = 32\n",
      "  Total train batch size (w. parallel, distributed & accumulation) = 32\n",
      "  Gradient Accumulation steps = 1\n",
      "  Total optimization steps = 2532\n"
     ]
    },
    {
     "data": {
      "text/html": [
       "\n",
       "    <div>\n",
       "      \n",
       "      <progress value='2532' max='2532' style='width:300px; height:20px; vertical-align: middle;'></progress>\n",
       "      [2532/2532 17:24:18, Epoch 3/3]\n",
       "    </div>\n",
       "    <table border=\"1\" class=\"dataframe\">\n",
       "  <thead>\n",
       " <tr style=\"text-align: left;\">\n",
       "      <th>Epoch</th>\n",
       "      <th>Training Loss</th>\n",
       "      <th>Validation Loss</th>\n",
       "    </tr>\n",
       "  </thead>\n",
       "  <tbody>\n",
       "    <tr>\n",
       "      <td>1</td>\n",
       "      <td>2.235800</td>\n",
       "      <td>2.069937</td>\n",
       "    </tr>\n",
       "    <tr>\n",
       "      <td>2</td>\n",
       "      <td>1.541500</td>\n",
       "      <td>1.612124</td>\n",
       "    </tr>\n",
       "    <tr>\n",
       "      <td>3</td>\n",
       "      <td>1.030800</td>\n",
       "      <td>1.393526</td>\n",
       "    </tr>\n",
       "  </tbody>\n",
       "</table><p>"
      ],
      "text/plain": [
       "<IPython.core.display.HTML object>"
      ]
     },
     "metadata": {},
     "output_type": "display_data"
    },
    {
     "name": "stderr",
     "output_type": "stream",
     "text": [
      "The following columns in the evaluation set don't have a corresponding argument in `GPT2LMHeadModel.forward` and have been ignored: text. If text are not expected by `GPT2LMHeadModel.forward`,  you can safely ignore this message.\n",
      "***** Running Evaluation *****\n",
      "  Num examples = 3001\n",
      "  Batch size = 32\n",
      "Saving model checkpoint to ./gpt2_multitask/checkpoint-844\n",
      "Configuration saved in ./gpt2_multitask/checkpoint-844/config.json\n",
      "Model weights saved in ./gpt2_multitask/checkpoint-844/pytorch_model.bin\n",
      "The following columns in the evaluation set don't have a corresponding argument in `GPT2LMHeadModel.forward` and have been ignored: text. If text are not expected by `GPT2LMHeadModel.forward`,  you can safely ignore this message.\n",
      "***** Running Evaluation *****\n",
      "  Num examples = 3001\n",
      "  Batch size = 32\n",
      "Saving model checkpoint to ./gpt2_multitask/checkpoint-1688\n",
      "Configuration saved in ./gpt2_multitask/checkpoint-1688/config.json\n",
      "Model weights saved in ./gpt2_multitask/checkpoint-1688/pytorch_model.bin\n",
      "The following columns in the evaluation set don't have a corresponding argument in `GPT2LMHeadModel.forward` and have been ignored: text. If text are not expected by `GPT2LMHeadModel.forward`,  you can safely ignore this message.\n",
      "***** Running Evaluation *****\n",
      "  Num examples = 3001\n",
      "  Batch size = 32\n",
      "Saving model checkpoint to ./gpt2_multitask/checkpoint-2532\n",
      "Configuration saved in ./gpt2_multitask/checkpoint-2532/config.json\n",
      "Model weights saved in ./gpt2_multitask/checkpoint-2532/pytorch_model.bin\n",
      "\n",
      "\n",
      "Training completed. Do not forget to share your model on huggingface.co/models =)\n",
      "\n",
      "\n",
      "Loading best model from ./gpt2_multitask/checkpoint-2532 (score: 1.3935256004333496).\n"
     ]
    },
    {
     "data": {
      "text/plain": [
       "TrainOutput(global_step=2532, training_loss=1.7913735361084178, metrics={'train_runtime': 62682.6122, 'train_samples_per_second': 1.292, 'train_steps_per_second': 0.04, 'total_flos': 1186835358449664.0, 'train_loss': 1.7913735361084178, 'epoch': 3.0})"
      ]
     },
     "execution_count": 21,
     "metadata": {},
     "output_type": "execute_result"
    }
   ],
   "source": [
    "trainer.train()"
   ]
  },
  {
   "cell_type": "code",
   "execution_count": 22,
   "id": "7ad5ebfd",
   "metadata": {},
   "outputs": [
    {
     "name": "stderr",
     "output_type": "stream",
     "text": [
      "The following columns in the evaluation set don't have a corresponding argument in `GPT2LMHeadModel.forward` and have been ignored: text. If text are not expected by `GPT2LMHeadModel.forward`,  you can safely ignore this message.\n",
      "***** Running Evaluation *****\n",
      "  Num examples = 3001\n",
      "  Batch size = 32\n"
     ]
    },
    {
     "data": {
      "text/html": [
       "\n",
       "    <div>\n",
       "      \n",
       "      <progress value='94' max='94' style='width:300px; height:20px; vertical-align: middle;'></progress>\n",
       "      [94/94 12:29]\n",
       "    </div>\n",
       "    "
      ],
      "text/plain": [
       "<IPython.core.display.HTML object>"
      ]
     },
     "metadata": {},
     "output_type": "display_data"
    },
    {
     "data": {
      "text/plain": [
       "{'eval_loss': 1.3935256004333496,\n",
       " 'eval_runtime': 759.1195,\n",
       " 'eval_samples_per_second': 3.953,\n",
       " 'eval_steps_per_second': 0.124,\n",
       " 'epoch': 3.0}"
      ]
     },
     "execution_count": 22,
     "metadata": {},
     "output_type": "execute_result"
    }
   ],
   "source": [
    "trainer.evaluate()"
   ]
  },
  {
   "cell_type": "code",
   "execution_count": 23,
   "id": "0457ee8c",
   "metadata": {},
   "outputs": [
    {
     "name": "stderr",
     "output_type": "stream",
     "text": [
      "Saving model checkpoint to ./gpt2_multitask\n",
      "Configuration saved in ./gpt2_multitask/config.json\n",
      "Model weights saved in ./gpt2_multitask/pytorch_model.bin\n"
     ]
    }
   ],
   "source": [
    "trainer.save_model()"
   ]
  },
  {
   "cell_type": "code",
   "execution_count": 24,
   "id": "b656986c",
   "metadata": {
    "scrolled": true
   },
   "outputs": [
    {
     "name": "stderr",
     "output_type": "stream",
     "text": [
      "loading configuration file ./gpt2_multitask/config.json\n",
      "Model config GPT2Config {\n",
      "  \"_name_or_path\": \"distilgpt2\",\n",
      "  \"_num_labels\": 1,\n",
      "  \"activation_function\": \"gelu_new\",\n",
      "  \"architectures\": [\n",
      "    \"GPT2LMHeadModel\"\n",
      "  ],\n",
      "  \"attn_pdrop\": 0.1,\n",
      "  \"bos_token_id\": 50256,\n",
      "  \"embd_pdrop\": 0.1,\n",
      "  \"eos_token_id\": 50256,\n",
      "  \"id2label\": {\n",
      "    \"0\": \"LABEL_0\"\n",
      "  },\n",
      "  \"initializer_range\": 0.02,\n",
      "  \"label2id\": {\n",
      "    \"LABEL_0\": 0\n",
      "  },\n",
      "  \"layer_norm_epsilon\": 1e-05,\n",
      "  \"model_type\": \"gpt2\",\n",
      "  \"n_ctx\": 1024,\n",
      "  \"n_embd\": 768,\n",
      "  \"n_head\": 12,\n",
      "  \"n_inner\": null,\n",
      "  \"n_layer\": 6,\n",
      "  \"n_positions\": 1024,\n",
      "  \"reorder_and_upcast_attn\": false,\n",
      "  \"resid_pdrop\": 0.1,\n",
      "  \"scale_attn_by_inverse_layer_idx\": false,\n",
      "  \"scale_attn_weights\": true,\n",
      "  \"summary_activation\": null,\n",
      "  \"summary_first_dropout\": 0.1,\n",
      "  \"summary_proj_to_labels\": true,\n",
      "  \"summary_type\": \"cls_index\",\n",
      "  \"summary_use_proj\": true,\n",
      "  \"task_specific_params\": {\n",
      "    \"text-generation\": {\n",
      "      \"do_sample\": true,\n",
      "      \"max_length\": 50\n",
      "    }\n",
      "  },\n",
      "  \"torch_dtype\": \"float32\",\n",
      "  \"transformers_version\": \"4.19.4\",\n",
      "  \"use_cache\": true,\n",
      "  \"vocab_size\": 50257\n",
      "}\n",
      "\n",
      "loading weights file ./gpt2_multitask/pytorch_model.bin\n",
      "All model checkpoint weights were used when initializing GPT2LMHeadModel.\n",
      "\n",
      "All the weights of GPT2LMHeadModel were initialized from the model checkpoint at ./gpt2_multitask.\n",
      "If your task is similar to the task the model of the checkpoint was trained on, you can already use GPT2LMHeadModel for predictions without further training.\n"
     ]
    }
   ],
   "source": [
    "loaded_model = GPT2LMHeadModel.from_pretrained('./gpt2_multitask')\n",
    "\n",
    "generator = pipeline('text-generation', model=loaded_model, tokenizer=tokenizer)"
   ]
  },
  {
   "cell_type": "code",
   "execution_count": null,
   "id": "33fefe8b",
   "metadata": {},
   "outputs": [],
   "source": []
  },
  {
   "cell_type": "code",
   "execution_count": 88,
   "id": "58e48142",
   "metadata": {},
   "outputs": [
    {
     "name": "stdout",
     "output_type": "stream",
     "text": [
      "Our family loves these udon type noodles, thick and chewy. Very spicey so we only use half a pack of seasoning for each.\n",
      "positive\n",
      "SPICY!\n"
     ]
    },
    {
     "data": {
      "text/plain": [
       "29"
      ]
     },
     "execution_count": 88,
     "metadata": {},
     "output_type": "execute_result"
    }
   ],
   "source": [
    "text_sample, score, summary = reviews.sample(1)[['Text', 'Sentiment', 'Summary']].values[0]\n",
    "\n",
    "print(text_sample)\n",
    "print(score)\n",
    "print(summary)\n",
    "\n",
    "num_tokens = len(tokenizer(text_sample)['input_ids'])\n",
    "num_tokens"
   ]
  },
  {
   "cell_type": "code",
   "execution_count": 89,
   "id": "9ecb17d4",
   "metadata": {},
   "outputs": [],
   "source": [
    "sentiment_text_sample = f'{SENTIMENT_PROMPT}\\nReview: {text_sample}{SENTIMENT_TOKEN}'\n",
    "summarize_text_sample = f'{SUMMARIZE_PROMPT}\\nReview: {text_sample}{SUMMARIZE_TOKEN}'"
   ]
  },
  {
   "cell_type": "code",
   "execution_count": 90,
   "id": "a02c3e61",
   "metadata": {},
   "outputs": [
    {
     "name": "stdout",
     "output_type": "stream",
     "text": [
      "Sentiment Task\n",
      "Review: Our family loves these udon type noodles, thick and chewy. Very spicey so we only use half a pack of seasoning for each.\n",
      "Sentiment:\n"
     ]
    }
   ],
   "source": [
    "print(sentiment_text_sample)"
   ]
  },
  {
   "cell_type": "code",
   "execution_count": 91,
   "id": "fb5354f6",
   "metadata": {},
   "outputs": [
    {
     "name": "stdout",
     "output_type": "stream",
     "text": [
      "Summarize Task\n",
      "Review: Our family loves these udon type noodles, thick and chewy. Very spicey so we only use half a pack of seasoning for each.\n",
      "Summarize:\n"
     ]
    }
   ],
   "source": [
    "print(summarize_text_sample)"
   ]
  },
  {
   "cell_type": "code",
   "execution_count": null,
   "id": "b913bc4c",
   "metadata": {},
   "outputs": [],
   "source": []
  },
  {
   "cell_type": "code",
   "execution_count": 92,
   "id": "687eb473",
   "metadata": {},
   "outputs": [
    {
     "name": "stderr",
     "output_type": "stream",
     "text": [
      "Setting `pad_token_id` to `eos_token_id`:50256 for open-end generation.\n",
      "Input length of input_ids is 39, but ``max_length`` is set to 30. This can lead to unexpected behavior. You should consider increasing ``config.max_length`` or ``max_length``.\n"
     ]
    },
    {
     "name": "stdout",
     "output_type": "stream",
     "text": [
      "Sentiment Task\n",
      "Review: Our family loves these udon type noodles, thick and chewy. Very spicey so we only use half a pack of seasoning for each.\n",
      "Sentiment: positive\n",
      "----\n",
      "Sentiment Task\n",
      "Review: Our family loves these udon type noodles, thick and chewy. Very spicey so we only use half a pack of seasoning for each.\n",
      "Sentiment: positive\n",
      "----\n",
      "Sentiment Task\n",
      "Review: Our family loves these udon type noodles, thick and chewy. Very spicey so we only use half a pack of seasoning for each.\n",
      "Sentiment: positive\n",
      "----\n"
     ]
    }
   ],
   "source": [
    "for generated_text in generator(\n",
    "    sentiment_text_sample, \n",
    "    num_return_sequences=3, \n",
    "    max_length=num_tokens + 1, \n",
    "    temperature=0.2\n",
    "):\n",
    "    print(generated_text['generated_text'])\n",
    "    print('----')"
   ]
  },
  {
   "cell_type": "code",
   "execution_count": 99,
   "id": "73126886",
   "metadata": {},
   "outputs": [
    {
     "name": "stderr",
     "output_type": "stream",
     "text": [
      "Setting `pad_token_id` to `eos_token_id`:50256 for open-end generation.\n"
     ]
    },
    {
     "name": "stdout",
     "output_type": "stream",
     "text": [
      "Summarize Task\n",
      "Review: Our family loves these udon type noodles, thick and chewy. Very spicey so we only use half a pack of seasoning for each.\n",
      "Summarize: Great noodles! Fast delivery! Spicy\n",
      "----\n",
      "Summarize Task\n",
      "Review: Our family loves these udon type noodles, thick and chewy. Very spicey so we only use half a pack of seasoning for each.\n",
      "Summarize: Very spicy! Too much seasoning! Too\n",
      "----\n",
      "Summarize Task\n",
      "Review: Our family loves these udon type noodles, thick and chewy. Very spicey so we only use half a pack of seasoning for each.\n",
      "Summarize: Very Spicy! Spicy! Our\n",
      "----\n"
     ]
    }
   ],
   "source": [
    "for generated_text in generator(\n",
    "    summarize_text_sample, \n",
    "    num_return_sequences=3, \n",
    "    max_length=num_tokens + 20, \n",
    "    temperature=0.7,\n",
    "    beams=3, \n",
    "):\n",
    "    print(generated_text['generated_text'])\n",
    "    print('----')"
   ]
  },
  {
   "cell_type": "code",
   "execution_count": 156,
   "id": "cbeb072b",
   "metadata": {},
   "outputs": [],
   "source": [
    "def process(text):\n",
    "    sentiment_text_sample = f'{SENTIMENT_PROMPT}\\nReview: {text}{SENTIMENT_TOKEN}'\n",
    "    summarize_text_sample = f'{SUMMARIZE_PROMPT}\\nReview: {text}{SUMMARIZE_TOKEN}'\n",
    "    \n",
    "    print('----Summaries----')\n",
    "    num_tokens = len(tokenizer(summarize_text_sample)['input_ids'])\n",
    "    for generated_text in generator(\n",
    "        summarize_text_sample, \n",
    "        num_return_sequences=3,\n",
    "        beams=5, \n",
    "        max_length=num_tokens + 10, \n",
    "        temperature=0.7\n",
    "    ):\n",
    "        print(generated_text['generated_text'].split(SUMMARIZE_TOKEN)[1])\n",
    "    print('----Sentiment----')\n",
    "    num_tokens = len(tokenizer(sentiment_text_sample)['input_ids'])\n",
    "    for generated_text in generator(\n",
    "        sentiment_text_sample, \n",
    "        num_return_sequences=1, \n",
    "        max_length=num_tokens + 1, \n",
    "        temperature=0.2\n",
    "    ):\n",
    "        print(generated_text['generated_text'].split(SENTIMENT_TOKEN)[1])"
   ]
  },
  {
   "cell_type": "code",
   "execution_count": 161,
   "id": "70d53fd7",
   "metadata": {},
   "outputs": [
    {
     "name": "stderr",
     "output_type": "stream",
     "text": [
      "Setting `pad_token_id` to `eos_token_id`:50256 for open-end generation.\n"
     ]
    },
    {
     "name": "stdout",
     "output_type": "stream",
     "text": [
      "----Summaries----\n"
     ]
    },
    {
     "name": "stderr",
     "output_type": "stream",
     "text": [
      "Setting `pad_token_id` to `eos_token_id`:50256 for open-end generation.\n"
     ]
    },
    {
     "name": "stdout",
     "output_type": "stream",
     "text": [
      " Yum! Yum! Yum! Y\n",
      " Yummy and healthy! My dog loved it!\n",
      " Yummy and healthy! Best food I have ever\n",
      "----Sentiment----\n",
      " positive\n"
     ]
    }
   ],
   "source": [
    "process('I am a big fan of this dog food. Very yummy and my dog loved it too!')"
   ]
  },
  {
   "cell_type": "code",
   "execution_count": 165,
   "id": "ef078449",
   "metadata": {},
   "outputs": [
    {
     "name": "stderr",
     "output_type": "stream",
     "text": [
      "Setting `pad_token_id` to `eos_token_id`:50256 for open-end generation.\n"
     ]
    },
    {
     "name": "stdout",
     "output_type": "stream",
     "text": [
      "----Summaries----\n"
     ]
    },
    {
     "name": "stderr",
     "output_type": "stream",
     "text": [
      "Setting `pad_token_id` to `eos_token_id`:50256 for open-end generation.\n"
     ]
    },
    {
     "name": "stdout",
     "output_type": "stream",
     "text": [
      " Great stuff!  Very good rice!  Best\n",
      " Best rice product on the market! Goes great with\n",
      " Great taste, easy to prepare and easy to prepare\n",
      "----Sentiment----\n",
      " positive\n"
     ]
    }
   ],
   "source": [
    "# a review I saw on ubereats while I was ordering dinner last night\n",
    "process('All kinds of nice flavors and textures to enjoy in their rice bowls, loved it!')"
   ]
  },
  {
   "cell_type": "code",
   "execution_count": null,
   "id": "e4ab9801",
   "metadata": {},
   "outputs": [],
   "source": []
  },
  {
   "cell_type": "code",
   "execution_count": 94,
   "id": "eaa9e656",
   "metadata": {},
   "outputs": [],
   "source": [
    "# Trying with a non-finetuned GPT2 to see the style difference"
   ]
  },
  {
   "cell_type": "code",
   "execution_count": 95,
   "id": "a0452f41",
   "metadata": {
    "scrolled": true
   },
   "outputs": [
    {
     "name": "stderr",
     "output_type": "stream",
     "text": [
      "loading configuration file https://huggingface.co/gpt2/resolve/main/config.json from cache at /Users/sinanozdemir/.cache/huggingface/transformers/fc674cd6907b4c9e933cb42d67662436b89fa9540a1f40d7c919d0109289ad01.7d2e0efa5ca20cef4fb199382111e9d3ad96fd77b849e1d4bed13a66e1336f51\n",
      "Model config GPT2Config {\n",
      "  \"activation_function\": \"gelu_new\",\n",
      "  \"architectures\": [\n",
      "    \"GPT2LMHeadModel\"\n",
      "  ],\n",
      "  \"attn_pdrop\": 0.1,\n",
      "  \"bos_token_id\": 50256,\n",
      "  \"embd_pdrop\": 0.1,\n",
      "  \"eos_token_id\": 50256,\n",
      "  \"initializer_range\": 0.02,\n",
      "  \"layer_norm_epsilon\": 1e-05,\n",
      "  \"model_type\": \"gpt2\",\n",
      "  \"n_ctx\": 1024,\n",
      "  \"n_embd\": 768,\n",
      "  \"n_head\": 12,\n",
      "  \"n_inner\": null,\n",
      "  \"n_layer\": 12,\n",
      "  \"n_positions\": 1024,\n",
      "  \"reorder_and_upcast_attn\": false,\n",
      "  \"resid_pdrop\": 0.1,\n",
      "  \"scale_attn_by_inverse_layer_idx\": false,\n",
      "  \"scale_attn_weights\": true,\n",
      "  \"summary_activation\": null,\n",
      "  \"summary_first_dropout\": 0.1,\n",
      "  \"summary_proj_to_labels\": true,\n",
      "  \"summary_type\": \"cls_index\",\n",
      "  \"summary_use_proj\": true,\n",
      "  \"task_specific_params\": {\n",
      "    \"text-generation\": {\n",
      "      \"do_sample\": true,\n",
      "      \"max_length\": 50\n",
      "    }\n",
      "  },\n",
      "  \"transformers_version\": \"4.19.4\",\n",
      "  \"use_cache\": true,\n",
      "  \"vocab_size\": 50257\n",
      "}\n",
      "\n",
      "loading weights file https://huggingface.co/gpt2/resolve/main/pytorch_model.bin from cache at /Users/sinanozdemir/.cache/huggingface/transformers/752929ace039baa8ef70fe21cdf9ab9445773d20e733cf693d667982e210837e.323c769945a351daa25546176f8208b3004b6f563438a7603e7932bae9025925\n",
      "All model checkpoint weights were used when initializing GPT2LMHeadModel.\n",
      "\n",
      "All the weights of GPT2LMHeadModel were initialized from the model checkpoint at gpt2.\n",
      "If your task is similar to the task the model of the checkpoint was trained on, you can already use GPT2LMHeadModel for predictions without further training.\n"
     ]
    }
   ],
   "source": [
    "non_fintuned_generator = pipeline(\n",
    "    'text-generation', model=GPT2LMHeadModel.from_pretrained('gpt2'), tokenizer=tokenizer\n",
    ")"
   ]
  },
  {
   "cell_type": "code",
   "execution_count": 96,
   "id": "255df2d6",
   "metadata": {
    "scrolled": true
   },
   "outputs": [
    {
     "name": "stderr",
     "output_type": "stream",
     "text": [
      "Setting `pad_token_id` to `eos_token_id`:50256 for open-end generation.\n",
      "Input length of input_ids is 39, but ``max_length`` is set to 30. This can lead to unexpected behavior. You should consider increasing ``config.max_length`` or ``max_length``.\n"
     ]
    },
    {
     "name": "stdout",
     "output_type": "stream",
     "text": [
      "Sentiment Task\n",
      "Review: Our family loves these udon type noodles, thick and chewy. Very spicey so we only use half a pack of seasoning for each.\n",
      "Sentiment: Great\n",
      "-------\n",
      "Sentiment Task\n",
      "Review: Our family loves these udon type noodles, thick and chewy. Very spicey so we only use half a pack of seasoning for each.\n",
      "Sentiment: These\n",
      "-------\n",
      "Sentiment Task\n",
      "Review: Our family loves these udon type noodles, thick and chewy. Very spicey so we only use half a pack of seasoning for each.\n",
      "Sentiment: Love\n",
      "-------\n",
      "Sentiment Task\n",
      "Review: Our family loves these udon type noodles, thick and chewy. Very spicey so we only use half a pack of seasoning for each.\n",
      "Sentiment: The\n",
      "-------\n",
      "Sentiment Task\n",
      "Review: Our family loves these udon type noodles, thick and chewy. Very spicey so we only use half a pack of seasoning for each.\n",
      "Sentiment: This\n",
      "-------\n"
     ]
    }
   ],
   "source": [
    "for generated_text in non_fintuned_generator(sentiment_text_sample, num_return_sequences=5, max_length=num_tokens + 1):\n",
    "    print(generated_text['generated_text'])\n",
    "    print('-------')"
   ]
  },
  {
   "cell_type": "code",
   "execution_count": 97,
   "id": "009716c4",
   "metadata": {
    "scrolled": true
   },
   "outputs": [
    {
     "name": "stderr",
     "output_type": "stream",
     "text": [
      "Setting `pad_token_id` to `eos_token_id`:50256 for open-end generation.\n"
     ]
    },
    {
     "name": "stdout",
     "output_type": "stream",
     "text": [
      "Summarize Task\n",
      "Review: Our family loves these udon type noodles, thick and chewy. Very spicey so we only use half a pack of seasoning for each.\n",
      "Summarize: We use three whole ingredients here, they\n",
      "----\n",
      "Summarize Task\n",
      "Review: Our family loves these udon type noodles, thick and chewy. Very spicey so we only use half a pack of seasoning for each.\n",
      "Summarize: We used these with everything from our \"\n",
      "----\n",
      "Summarize Task\n",
      "Review: Our family loves these udon type noodles, thick and chewy. Very spicey so we only use half a pack of seasoning for each.\n",
      "Summarize: These will be great if you are wanting\n",
      "----\n"
     ]
    }
   ],
   "source": [
    "for generated_text in non_fintuned_generator(summarize_text_sample, num_return_sequences=3, max_length=num_tokens + 20):\n",
    "    print(generated_text['generated_text'])\n",
    "    print('----')"
   ]
  },
  {
   "cell_type": "code",
   "execution_count": 98,
   "id": "7e3316a1",
   "metadata": {},
   "outputs": [
    {
     "name": "stderr",
     "output_type": "stream",
     "text": [
      "Setting `pad_token_id` to `eos_token_id`:50256 for open-end generation.\n"
     ]
    },
    {
     "name": "stdout",
     "output_type": "stream",
     "text": [
      "Summarization Task\n",
      "Our family loves these udon type noodles, thick and chewy. Very spicey so we only use half a pack of seasoning for each.\n",
      "TL;DR:\n",
      "For the \"tummy-sushi\",\n",
      "----\n",
      "Summarization Task\n",
      "Our family loves these udon type noodles, thick and chewy. Very spicey so we only use half a pack of seasoning for each.\n",
      "TL;DR: I will NEVER buy this, they do not work\n",
      "----\n",
      "Summarization Task\n",
      "Our family loves these udon type noodles, thick and chewy. Very spicey so we only use half a pack of seasoning for each.\n",
      "TL;DR: The following Udon noodles are ready to cook.\n",
      "----\n"
     ]
    }
   ],
   "source": [
    "for generated_text in non_fintuned_generator(f'Summarization Task\\n{text_sample}\\nTL;DR:', num_return_sequences=3, max_length=num_tokens + 20):\n",
    "    print(generated_text['generated_text'])\n",
    "    print('----')"
   ]
  },
  {
   "cell_type": "code",
   "execution_count": null,
   "id": "0f84b44e",
   "metadata": {},
   "outputs": [],
   "source": []
  },
  {
   "cell_type": "code",
   "execution_count": null,
   "id": "5be8f799",
   "metadata": {},
   "outputs": [],
   "source": []
  }
 ],
 "metadata": {
  "kernelspec": {
   "display_name": "Python 3 (ipykernel)",
   "language": "python",
   "name": "python3"
  },
  "language_info": {
   "codemirror_mode": {
    "name": "ipython",
    "version": 3
   },
   "file_extension": ".py",
   "mimetype": "text/x-python",
   "name": "python",
   "nbconvert_exporter": "python",
   "pygments_lexer": "ipython3",
   "version": "3.10.7"
  }
 },
 "nbformat": 4,
 "nbformat_minor": 5
}
