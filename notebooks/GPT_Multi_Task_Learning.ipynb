{
 "cells": [
  {
   "cell_type": "code",
   "execution_count": null,
   "id": "accepting-harvey",
   "metadata": {},
   "outputs": [],
   "source": []
  },
  {
   "cell_type": "code",
   "execution_count": 1,
   "id": "animal-example",
   "metadata": {},
   "outputs": [],
   "source": [
    "import pandas as pd"
   ]
  },
  {
   "cell_type": "code",
   "execution_count": 14,
   "id": "apparent-standing",
   "metadata": {},
   "outputs": [
    {
     "data": {
      "text/plain": [
       "(1000, 10)"
      ]
     },
     "execution_count": 14,
     "metadata": {},
     "output_type": "execute_result"
    }
   ],
   "source": [
    "reviews = pd.read_csv('../data/reviews_sample.csv')\n",
    "\n",
    "reviews.shape"
   ]
  },
  {
   "cell_type": "code",
   "execution_count": 15,
   "id": "cutting-stocks",
   "metadata": {},
   "outputs": [
    {
     "data": {
      "text/html": [
       "<div>\n",
       "<style scoped>\n",
       "    .dataframe tbody tr th:only-of-type {\n",
       "        vertical-align: middle;\n",
       "    }\n",
       "\n",
       "    .dataframe tbody tr th {\n",
       "        vertical-align: top;\n",
       "    }\n",
       "\n",
       "    .dataframe thead th {\n",
       "        text-align: right;\n",
       "    }\n",
       "</style>\n",
       "<table border=\"1\" class=\"dataframe\">\n",
       "  <thead>\n",
       "    <tr style=\"text-align: right;\">\n",
       "      <th></th>\n",
       "      <th>Id</th>\n",
       "      <th>ProductId</th>\n",
       "      <th>UserId</th>\n",
       "      <th>ProfileName</th>\n",
       "      <th>HelpfulnessNumerator</th>\n",
       "      <th>HelpfulnessDenominator</th>\n",
       "      <th>Score</th>\n",
       "      <th>Time</th>\n",
       "      <th>Summary</th>\n",
       "      <th>Text</th>\n",
       "    </tr>\n",
       "  </thead>\n",
       "  <tbody>\n",
       "    <tr>\n",
       "      <th>0</th>\n",
       "      <td>416669</td>\n",
       "      <td>B000EMD1XW</td>\n",
       "      <td>A2HW3HFAEX4JN3</td>\n",
       "      <td>Annette Neeley</td>\n",
       "      <td>1</td>\n",
       "      <td>1</td>\n",
       "      <td>5</td>\n",
       "      <td>1311379200</td>\n",
       "      <td>Favorite Tea</td>\n",
       "      <td>Cannot find this in stores anymore. I'm not su...</td>\n",
       "    </tr>\n",
       "    <tr>\n",
       "      <th>1</th>\n",
       "      <td>475332</td>\n",
       "      <td>B001KP4VMC</td>\n",
       "      <td>A3IUW081KXD3PE</td>\n",
       "      <td>pixels and bits</td>\n",
       "      <td>1</td>\n",
       "      <td>1</td>\n",
       "      <td>5</td>\n",
       "      <td>1251849600</td>\n",
       "      <td>High marks for Chukar's toppings!</td>\n",
       "      <td>I regularly order Chukar's pie fillings and to...</td>\n",
       "    </tr>\n",
       "    <tr>\n",
       "      <th>2</th>\n",
       "      <td>565645</td>\n",
       "      <td>B002GKEK7G</td>\n",
       "      <td>A2QUKCW69I9JUP</td>\n",
       "      <td>Jill H Anderson</td>\n",
       "      <td>1</td>\n",
       "      <td>1</td>\n",
       "      <td>5</td>\n",
       "      <td>1318982400</td>\n",
       "      <td>love it, love it, love it!</td>\n",
       "      <td>I was looking for something that would satisfy...</td>\n",
       "    </tr>\n",
       "    <tr>\n",
       "      <th>3</th>\n",
       "      <td>190110</td>\n",
       "      <td>B000E18CWI</td>\n",
       "      <td>ACZIC2GCCFA0R</td>\n",
       "      <td>Sunbob</td>\n",
       "      <td>2</td>\n",
       "      <td>4</td>\n",
       "      <td>5</td>\n",
       "      <td>1194566400</td>\n",
       "      <td>Great buy on Thai noodles</td>\n",
       "      <td>This is a great deal, plus a % off coupon.  Mu...</td>\n",
       "    </tr>\n",
       "    <tr>\n",
       "      <th>4</th>\n",
       "      <td>511270</td>\n",
       "      <td>B004FGWU9O</td>\n",
       "      <td>A3UROAHZHOIMTR</td>\n",
       "      <td>Maria \"andrewsm51\"</td>\n",
       "      <td>0</td>\n",
       "      <td>1</td>\n",
       "      <td>2</td>\n",
       "      <td>1318896000</td>\n",
       "      <td>Mediocre</td>\n",
       "      <td>This coffee is only mediocre in quality. I do ...</td>\n",
       "    </tr>\n",
       "  </tbody>\n",
       "</table>\n",
       "</div>"
      ],
      "text/plain": [
       "       Id   ProductId          UserId         ProfileName  \\\n",
       "0  416669  B000EMD1XW  A2HW3HFAEX4JN3      Annette Neeley   \n",
       "1  475332  B001KP4VMC  A3IUW081KXD3PE     pixels and bits   \n",
       "2  565645  B002GKEK7G  A2QUKCW69I9JUP     Jill H Anderson   \n",
       "3  190110  B000E18CWI   ACZIC2GCCFA0R              Sunbob   \n",
       "4  511270  B004FGWU9O  A3UROAHZHOIMTR  Maria \"andrewsm51\"   \n",
       "\n",
       "   HelpfulnessNumerator  HelpfulnessDenominator  Score        Time  \\\n",
       "0                     1                       1      5  1311379200   \n",
       "1                     1                       1      5  1251849600   \n",
       "2                     1                       1      5  1318982400   \n",
       "3                     2                       4      5  1194566400   \n",
       "4                     0                       1      2  1318896000   \n",
       "\n",
       "                             Summary  \\\n",
       "0                       Favorite Tea   \n",
       "1  High marks for Chukar's toppings!   \n",
       "2         love it, love it, love it!   \n",
       "3          Great buy on Thai noodles   \n",
       "4                           Mediocre   \n",
       "\n",
       "                                                Text  \n",
       "0  Cannot find this in stores anymore. I'm not su...  \n",
       "1  I regularly order Chukar's pie fillings and to...  \n",
       "2  I was looking for something that would satisfy...  \n",
       "3  This is a great deal, plus a % off coupon.  Mu...  \n",
       "4  This coffee is only mediocre in quality. I do ...  "
      ]
     },
     "execution_count": 15,
     "metadata": {},
     "output_type": "execute_result"
    }
   ],
   "source": [
    "reviews.head()"
   ]
  },
  {
   "cell_type": "code",
   "execution_count": null,
   "id": "amber-paper",
   "metadata": {},
   "outputs": [],
   "source": []
  },
  {
   "cell_type": "code",
   "execution_count": 16,
   "id": "sensitive-luther",
   "metadata": {},
   "outputs": [
    {
     "data": {
      "text/plain": [
       "<AxesSubplot:title={'center':'Histogram of String Length'}, ylabel='Frequency'>"
      ]
     },
     "execution_count": 16,
     "metadata": {},
     "output_type": "execute_result"
    },
    {
     "data": {
      "image/png": "[encoded data removed]",
      "text/plain": [
       "<Figure size 432x288 with 1 Axes>"
      ]
     },
     "metadata": {
      "needs_background": "light"
     },
     "output_type": "display_data"
    }
   ],
   "source": [
    "reviews['Text'].str.len().plot(kind='hist', title='Histogram of String Length')"
   ]
  },
  {
   "cell_type": "code",
   "execution_count": 17,
   "id": "electoral-barrel",
   "metadata": {},
   "outputs": [
    {
     "name": "stderr",
     "output_type": "stream",
     "text": [
      "<ipython-input-17-de870841e023>:2: UserWarning: Boolean Series key will be reindexed to match DataFrame index.\n",
      "  reviews = reviews[reviews['len'] < 150][reviews['len'] > 100]\n"
     ]
    },
    {
     "data": {
      "text/plain": [
       "(133, 11)"
      ]
     },
     "execution_count": 17,
     "metadata": {},
     "output_type": "execute_result"
    }
   ],
   "source": [
    "reviews['len'] = reviews['Text'].str.len()\n",
    "reviews = reviews[reviews['len'] < 150][reviews['len'] > 100]\n",
    "\n",
    "reviews.shape"
   ]
  },
  {
   "cell_type": "code",
   "execution_count": 18,
   "id": "shared-legislation",
   "metadata": {},
   "outputs": [],
   "source": [
    "reviews['Sentiment'] = reviews['Score'].map(lambda x: 'positive'  if x >=  4 else 'negative')"
   ]
  },
  {
   "cell_type": "code",
   "execution_count": 19,
   "id": "brown-exhibition",
   "metadata": {},
   "outputs": [
    {
     "data": {
      "text/plain": [
       "<AxesSubplot:title={'center':'Histogram of String Length'}, ylabel='Frequency'>"
      ]
     },
     "execution_count": 19,
     "metadata": {},
     "output_type": "execute_result"
    },
    {
     "data": {
      "image/png": "[encoded data removed]",
      "text/plain": [
       "<Figure size 432x288 with 1 Axes>"
      ]
     },
     "metadata": {
      "needs_background": "light"
     },
     "output_type": "display_data"
    }
   ],
   "source": [
    "reviews['Text'].str.len().plot(kind='hist', title='Histogram of String Length')"
   ]
  },
  {
   "cell_type": "code",
   "execution_count": 20,
   "id": "absolute-birthday",
   "metadata": {},
   "outputs": [
    {
     "data": {
      "text/plain": [
       "<AxesSubplot:>"
      ]
     },
     "execution_count": 20,
     "metadata": {},
     "output_type": "execute_result"
    },
    {
     "data": {
      "image/png": "[encoded data removed]",
      "text/plain": [
       "<Figure size 432x288 with 1 Axes>"
      ]
     },
     "metadata": {
      "needs_background": "light"
     },
     "output_type": "display_data"
    }
   ],
   "source": [
    "reviews['Sentiment'].value_counts().plot(kind='bar')"
   ]
  },
  {
   "cell_type": "code",
   "execution_count": 21,
   "id": "russian-category",
   "metadata": {},
   "outputs": [
    {
     "ename": "ValueError",
     "evalue": "Cannot take a larger sample than population when 'replace=False'",
     "output_type": "error",
     "traceback": [
      "\u001b[0;31m---------------------------------------------------------------------------\u001b[0m",
      "\u001b[0;31mValueError\u001b[0m                                Traceback (most recent call last)",
      "\u001b[0;32m<ipython-input-21-e7bda3199810>\u001b[0m in \u001b[0;36m<module>\u001b[0;34m\u001b[0m\n\u001b[0;32m----> 1\u001b[0;31m \u001b[0mreviews_sample\u001b[0m \u001b[0;34m=\u001b[0m \u001b[0mreviews\u001b[0m\u001b[0;34m.\u001b[0m\u001b[0mgroupby\u001b[0m\u001b[0;34m(\u001b[0m\u001b[0;34m'Sentiment'\u001b[0m\u001b[0;34m)\u001b[0m\u001b[0;34m.\u001b[0m\u001b[0msample\u001b[0m\u001b[0;34m(\u001b[0m\u001b[0;36m25\u001b[0m\u001b[0;34m)\u001b[0m\u001b[0;34m\u001b[0m\u001b[0;34m\u001b[0m\u001b[0m\n\u001b[0m\u001b[1;32m      2\u001b[0m \u001b[0;34m\u001b[0m\u001b[0m\n\u001b[1;32m      3\u001b[0m \u001b[0mreviews_sample\u001b[0m\u001b[0;34m.\u001b[0m\u001b[0mshape\u001b[0m\u001b[0;34m\u001b[0m\u001b[0;34m\u001b[0m\u001b[0m\n",
      "\u001b[0;32m/usr/local/lib/python3.9/site-packages/pandas/core/groupby/groupby.py\u001b[0m in \u001b[0;36msample\u001b[0;34m(self, n, frac, replace, weights, random_state)\u001b[0m\n\u001b[1;32m   3029\u001b[0m             \u001b[0mrandom_state\u001b[0m \u001b[0;34m=\u001b[0m \u001b[0mcom\u001b[0m\u001b[0;34m.\u001b[0m\u001b[0mrandom_state\u001b[0m\u001b[0;34m(\u001b[0m\u001b[0mrandom_state\u001b[0m\u001b[0;34m)\u001b[0m\u001b[0;34m\u001b[0m\u001b[0;34m\u001b[0m\u001b[0m\n\u001b[1;32m   3030\u001b[0m \u001b[0;34m\u001b[0m\u001b[0m\n\u001b[0;32m-> 3031\u001b[0;31m         samples = [\n\u001b[0m\u001b[1;32m   3032\u001b[0m             obj.sample(\n\u001b[1;32m   3033\u001b[0m                 \u001b[0mn\u001b[0m\u001b[0;34m=\u001b[0m\u001b[0mn\u001b[0m\u001b[0;34m,\u001b[0m \u001b[0mfrac\u001b[0m\u001b[0;34m=\u001b[0m\u001b[0mfrac\u001b[0m\u001b[0;34m,\u001b[0m \u001b[0mreplace\u001b[0m\u001b[0;34m=\u001b[0m\u001b[0mreplace\u001b[0m\u001b[0;34m,\u001b[0m \u001b[0mweights\u001b[0m\u001b[0;34m=\u001b[0m\u001b[0mw\u001b[0m\u001b[0;34m,\u001b[0m \u001b[0mrandom_state\u001b[0m\u001b[0;34m=\u001b[0m\u001b[0mrandom_state\u001b[0m\u001b[0;34m\u001b[0m\u001b[0;34m\u001b[0m\u001b[0m\n",
      "\u001b[0;32m/usr/local/lib/python3.9/site-packages/pandas/core/groupby/groupby.py\u001b[0m in \u001b[0;36m<listcomp>\u001b[0;34m(.0)\u001b[0m\n\u001b[1;32m   3030\u001b[0m \u001b[0;34m\u001b[0m\u001b[0m\n\u001b[1;32m   3031\u001b[0m         samples = [\n\u001b[0;32m-> 3032\u001b[0;31m             obj.sample(\n\u001b[0m\u001b[1;32m   3033\u001b[0m                 \u001b[0mn\u001b[0m\u001b[0;34m=\u001b[0m\u001b[0mn\u001b[0m\u001b[0;34m,\u001b[0m \u001b[0mfrac\u001b[0m\u001b[0;34m=\u001b[0m\u001b[0mfrac\u001b[0m\u001b[0;34m,\u001b[0m \u001b[0mreplace\u001b[0m\u001b[0;34m=\u001b[0m\u001b[0mreplace\u001b[0m\u001b[0;34m,\u001b[0m \u001b[0mweights\u001b[0m\u001b[0;34m=\u001b[0m\u001b[0mw\u001b[0m\u001b[0;34m,\u001b[0m \u001b[0mrandom_state\u001b[0m\u001b[0;34m=\u001b[0m\u001b[0mrandom_state\u001b[0m\u001b[0;34m\u001b[0m\u001b[0;34m\u001b[0m\u001b[0m\n\u001b[1;32m   3034\u001b[0m             )\n",
      "\u001b[0;32m/usr/local/lib/python3.9/site-packages/pandas/core/generic.py\u001b[0m in \u001b[0;36msample\u001b[0;34m(self, n, frac, replace, weights, random_state, axis)\u001b[0m\n\u001b[1;32m   5348\u001b[0m             )\n\u001b[1;32m   5349\u001b[0m \u001b[0;34m\u001b[0m\u001b[0m\n\u001b[0;32m-> 5350\u001b[0;31m         \u001b[0mlocs\u001b[0m \u001b[0;34m=\u001b[0m \u001b[0mrs\u001b[0m\u001b[0;34m.\u001b[0m\u001b[0mchoice\u001b[0m\u001b[0;34m(\u001b[0m\u001b[0maxis_length\u001b[0m\u001b[0;34m,\u001b[0m \u001b[0msize\u001b[0m\u001b[0;34m=\u001b[0m\u001b[0mn\u001b[0m\u001b[0;34m,\u001b[0m \u001b[0mreplace\u001b[0m\u001b[0;34m=\u001b[0m\u001b[0mreplace\u001b[0m\u001b[0;34m,\u001b[0m \u001b[0mp\u001b[0m\u001b[0;34m=\u001b[0m\u001b[0mweights\u001b[0m\u001b[0;34m)\u001b[0m\u001b[0;34m\u001b[0m\u001b[0;34m\u001b[0m\u001b[0m\n\u001b[0m\u001b[1;32m   5351\u001b[0m         \u001b[0;32mreturn\u001b[0m \u001b[0mself\u001b[0m\u001b[0;34m.\u001b[0m\u001b[0mtake\u001b[0m\u001b[0;34m(\u001b[0m\u001b[0mlocs\u001b[0m\u001b[0;34m,\u001b[0m \u001b[0maxis\u001b[0m\u001b[0;34m=\u001b[0m\u001b[0maxis\u001b[0m\u001b[0;34m)\u001b[0m\u001b[0;34m\u001b[0m\u001b[0;34m\u001b[0m\u001b[0m\n\u001b[1;32m   5352\u001b[0m \u001b[0;34m\u001b[0m\u001b[0m\n",
      "\u001b[0;32mmtrand.pyx\u001b[0m in \u001b[0;36mnumpy.random.mtrand.RandomState.choice\u001b[0;34m()\u001b[0m\n",
      "\u001b[0;31mValueError\u001b[0m: Cannot take a larger sample than population when 'replace=False'"
     ]
    }
   ],
   "source": [
    "reviews_sample = reviews.groupby('Sentiment').sample(25)\n",
    "\n",
    "reviews_sample.shape"
   ]
  },
  {
   "cell_type": "code",
   "execution_count": 25,
   "id": "continuous-season",
   "metadata": {},
   "outputs": [],
   "source": [
    "reviews_sample = reviews"
   ]
  },
  {
   "cell_type": "code",
   "execution_count": 26,
   "id": "accepting-single",
   "metadata": {},
   "outputs": [],
   "source": [
    "from transformers import GPT2Tokenizer\n",
    "\n",
    "MODEL = 'distilgpt2'\n",
    "\n",
    "tokenizer = GPT2Tokenizer.from_pretrained(MODEL)\n",
    "\n",
    "tokenizer.pad_token = tokenizer.eos_token\n",
    "\n",
    "#add two prompts, one for each task\n",
    "SENTIMENT_TOKEN = '\\nSentiment:'\n",
    "SUMMARIZE_TOKEN = '\\nSummarize:'\n",
    "\n",
    "\n",
    "# Uncomment these lines to add the two tokens to the tokenizer as brand new tokens\n",
    "\n",
    "# special_words_to_add={\"additional_special_tokens\": [SENTIMENT_TOKEN, SUMMARIZE_TOKEN]}\n",
    "# tokenizer.add_special_tokens(special_words_to_add)\n"
   ]
  },
  {
   "cell_type": "code",
   "execution_count": 27,
   "id": "functional-pakistan",
   "metadata": {},
   "outputs": [
    {
     "data": {
      "text/plain": [
       "<AxesSubplot:>"
      ]
     },
     "execution_count": 27,
     "metadata": {},
     "output_type": "execute_result"
    },
    {
     "data": {
      "image/png": "[encoded data removed]",
      "text/plain": [
       "<Figure size 432x288 with 1 Axes>"
      ]
     },
     "metadata": {
      "needs_background": "light"
     },
     "output_type": "display_data"
    }
   ],
   "source": [
    "reviews_sample['Score'].hist()"
   ]
  },
  {
   "cell_type": "code",
   "execution_count": 28,
   "id": "direct-woman",
   "metadata": {},
   "outputs": [],
   "source": [
    "reviews_sample['sentiment_text'] = 'Review: ' + reviews_sample['Text'] + SENTIMENT_TOKEN +  ' ' + reviews_sample['Sentiment'].astype(str)\n",
    "\n",
    "reviews_sample['summarize_text'] = 'Review: ' + reviews_sample['Text'] + SUMMARIZE_TOKEN +  ' ' + reviews_sample['Summary'].astype(str)\n"
   ]
  },
  {
   "cell_type": "code",
   "execution_count": 29,
   "id": "separate-declaration",
   "metadata": {},
   "outputs": [
    {
     "data": {
      "text/plain": [
       "['Review: Thank goodness for this brand of pasta. It tates just like pasta with gluten only better! Not grainy, mushy, and the texture is perfect!\\nSentiment: positive',\n",
       " 'Review: My favorite Flavored coffee!!! This is not available in any of my local stores.  Better price than I have found at any local stores as well.\\nSentiment: positive']"
      ]
     },
     "execution_count": 29,
     "metadata": {},
     "output_type": "execute_result"
    }
   ],
   "source": [
    "reviews_sample['sentiment_text'].head(2).tolist()"
   ]
  },
  {
   "cell_type": "code",
   "execution_count": 30,
   "id": "harmful-malaysia",
   "metadata": {},
   "outputs": [
    {
     "data": {
      "text/plain": [
       "{'bos_token': '<|endoftext|>',\n",
       " 'eos_token': '<|endoftext|>',\n",
       " 'unk_token': '<|endoftext|>',\n",
       " 'pad_token': '<|endoftext|>'}"
      ]
     },
     "execution_count": 30,
     "metadata": {},
     "output_type": "execute_result"
    }
   ],
   "source": [
    "tokenizer.special_tokens_map"
   ]
  },
  {
   "cell_type": "code",
   "execution_count": 31,
   "id": "lesbian-victory",
   "metadata": {},
   "outputs": [
    {
     "data": {
      "text/plain": [
       "['Review: Thank goodness for this brand of pasta. It tates just like pasta with gluten only better! Not grainy, mushy, and the texture is perfect!\\nSummarize: Best pasta ever!',\n",
       " 'Review: My favorite Flavored coffee!!! This is not available in any of my local stores.  Better price than I have found at any local stores as well.\\nSummarize: My favorite k cup']"
      ]
     },
     "execution_count": 31,
     "metadata": {},
     "output_type": "execute_result"
    }
   ],
   "source": [
    "reviews_sample['summarize_text'].head(2).tolist()"
   ]
  },
  {
   "cell_type": "code",
   "execution_count": 32,
   "id": "graduate-portuguese",
   "metadata": {},
   "outputs": [],
   "source": [
    "# TODO don't repeat utterances"
   ]
  },
  {
   "cell_type": "code",
   "execution_count": 33,
   "id": "comparative-pressure",
   "metadata": {},
   "outputs": [],
   "source": [
    "reviews_sample = reviews_sample.sample(frac=1)"
   ]
  },
  {
   "cell_type": "code",
   "execution_count": 34,
   "id": "known-hacker",
   "metadata": {},
   "outputs": [],
   "source": [
    "mid_point = reviews_sample.shape[0]//2\n",
    "\n",
    "\n",
    "training_examples = reviews_sample['summarize_text'].head(mid_point).tolist() + reviews_sample['sentiment_text'].tail(mid_point).tolist()\n",
    "\n"
   ]
  },
  {
   "cell_type": "code",
   "execution_count": null,
   "id": "metric-heater",
   "metadata": {},
   "outputs": [],
   "source": []
  },
  {
   "cell_type": "code",
   "execution_count": 35,
   "id": "consolidated-framework",
   "metadata": {},
   "outputs": [
    {
     "data": {
      "text/plain": [
       "(132, 1)"
      ]
     },
     "execution_count": 35,
     "metadata": {},
     "output_type": "execute_result"
    }
   ],
   "source": [
    "multi_task_df = pd.DataFrame({'text': training_examples})\n",
    "\n",
    "multi_task_df.shape"
   ]
  },
  {
   "cell_type": "code",
   "execution_count": 36,
   "id": "framed-proxy",
   "metadata": {},
   "outputs": [
    {
     "name": "stdout",
     "output_type": "stream",
     "text": [
      "Review: If all I wanted was a date flavored bar I'd have bought a date bar.  As a date bar they're ok, just relabel them as such.\n",
      "Summarize: Banana Bread and Pecan Pie\n"
     ]
    }
   ],
   "source": [
    "print(multi_task_df['text'][1])"
   ]
  },
  {
   "cell_type": "code",
   "execution_count": 38,
   "id": "polar-tiffany",
   "metadata": {},
   "outputs": [
    {
     "name": "stdout",
     "output_type": "stream",
     "text": [
      "Review: My dog is very picky but she will eat this, and it is so good for her.<br />I will definitely keep buying this.\n",
      "Summarize: My Dog loves this\n"
     ]
    }
   ],
   "source": [
    "print(multi_task_df['text'][10])"
   ]
  },
  {
   "cell_type": "code",
   "execution_count": null,
   "id": "configured-night",
   "metadata": {},
   "outputs": [],
   "source": []
  },
  {
   "cell_type": "code",
   "execution_count": 39,
   "id": "separate-charter",
   "metadata": {},
   "outputs": [
    {
     "data": {
      "text/plain": [
       "Dataset({\n",
       "    features: ['text'],\n",
       "    num_rows: 132\n",
       "})"
      ]
     },
     "execution_count": 39,
     "metadata": {},
     "output_type": "execute_result"
    }
   ],
   "source": [
    "from datasets import Dataset\n",
    "data = Dataset.from_pandas(multi_task_df)\n",
    "data"
   ]
  },
  {
   "cell_type": "code",
   "execution_count": 40,
   "id": "employed-question",
   "metadata": {
    "scrolled": true
   },
   "outputs": [
    {
     "data": {
      "application/vnd.jupyter.widget-view+json": {
       "model_id": "69825399e3f24f1a80750930eb6c68a1",
       "version_major": 2,
       "version_minor": 0
      },
      "text/plain": [
       "  0%|          | 0/1 [00:00<?, ?ba/s]"
      ]
     },
     "metadata": {},
     "output_type": "display_data"
    },
    {
     "name": "stdout",
     "output_type": "stream",
     "text": [
      "Dataset({\n",
      "    features: ['attention_mask', 'input_ids', 'labels', 'text'],\n",
      "    num_rows: 132\n",
      "})\n"
     ]
    }
   ],
   "source": [
    "MAX_TOKENS = 256\n",
    "\n",
    "# texts to numeric vectors of MAX_TOKENS\n",
    "def tokenize_function(examples):\n",
    "    # tokenizer created input_ids and attention_mask as output\n",
    "    output = tokenizer(\n",
    "        examples['text'],\n",
    "        add_special_tokens=True,\n",
    "        max_length=MAX_TOKENS,\n",
    "        truncation=True,\n",
    "        padding='max_length',\n",
    "    )\n",
    "    \n",
    "    output['labels'] =  output[\"input_ids\"]\n",
    "    # -100 is a reserved value to ignore these tokens when calculating the loss\n",
    "    output[\"labels\"] = [[-100 if x == tokenizer.pad_token_id else x for x in y] for y in output[\"labels\"]]\n",
    "    return output\n",
    "\n",
    "data = data.map(\n",
    "    tokenize_function,\n",
    "    batched=True,\n",
    ")\n",
    "print(data)\n"
   ]
  },
  {
   "cell_type": "code",
   "execution_count": 41,
   "id": "completed-midwest",
   "metadata": {},
   "outputs": [
    {
     "name": "stdout",
     "output_type": "stream",
     "text": [
      "DatasetDict({\n",
      "    train: Dataset({\n",
      "        features: ['attention_mask', 'input_ids', 'labels', 'text'],\n",
      "        num_rows: 105\n",
      "    })\n",
      "    test: Dataset({\n",
      "        features: ['attention_mask', 'input_ids', 'labels', 'text'],\n",
      "        num_rows: 27\n",
      "    })\n",
      "})\n"
     ]
    }
   ],
   "source": [
    "data.set_format(type=\"python\", columns=[\"input_ids\", \"attention_mask\", \"labels\"])\n",
    "\n",
    "data = data.train_test_split(test_size=0.20, shuffle=True, seed=0)\n",
    "print(data)"
   ]
  },
  {
   "cell_type": "code",
   "execution_count": 42,
   "id": "committed-bunch",
   "metadata": {},
   "outputs": [
    {
     "data": {
      "text/plain": [
       "'Review: This product is the perfect brew every time and I can have my cold glass of tea in less than a minute!\\nSentiment: positive<|endoftext|><|endoftext|><|endoftext|><|endoftext|><|endoftext|><|endoftext|><|endoftext|><|endoftext|><|endoftext|><|endoftext|><|endoftext|><|endoftext|><|endoftext|><|endoftext|><|endoftext|><|endoftext|><|endoftext|><|endoftext|><|endoftext|><|endoftext|><|endoftext|><|endoftext|><|endoftext|><|endoftext|><|endoftext|><|endoftext|><|endoftext|><|endoftext|><|endoftext|><|endoftext|><|endoftext|><|endoftext|><|endoftext|><|endoftext|><|endoftext|><|endoftext|><|endoftext|><|endoftext|><|endoftext|><|endoftext|><|endoftext|><|endoftext|><|endoftext|><|endoftext|><|endoftext|><|endoftext|><|endoftext|><|endoftext|><|endoftext|><|endoftext|><|endoftext|><|endoftext|><|endoftext|><|endoftext|><|endoftext|><|endoftext|><|endoftext|><|endoftext|><|endoftext|><|endoftext|><|endoftext|><|endoftext|><|endoftext|><|endoftext|><|endoftext|><|endoftext|><|endoftext|><|endoftext|><|endoftext|><|endoftext|><|endoftext|><|endoftext|><|endoftext|><|endoftext|><|endoftext|><|endoftext|><|endoftext|><|endoftext|><|endoftext|><|endoftext|><|endoftext|><|endoftext|><|endoftext|><|endoftext|><|endoftext|><|endoftext|><|endoftext|><|endoftext|><|endoftext|><|endoftext|><|endoftext|><|endoftext|><|endoftext|><|endoftext|><|endoftext|><|endoftext|><|endoftext|><|endoftext|><|endoftext|><|endoftext|><|endoftext|><|endoftext|><|endoftext|><|endoftext|><|endoftext|><|endoftext|><|endoftext|><|endoftext|><|endoftext|><|endoftext|><|endoftext|><|endoftext|><|endoftext|><|endoftext|><|endoftext|><|endoftext|><|endoftext|><|endoftext|><|endoftext|><|endoftext|><|endoftext|><|endoftext|><|endoftext|><|endoftext|><|endoftext|><|endoftext|><|endoftext|><|endoftext|><|endoftext|><|endoftext|><|endoftext|><|endoftext|><|endoftext|><|endoftext|><|endoftext|><|endoftext|><|endoftext|><|endoftext|><|endoftext|><|endoftext|><|endoftext|><|endoftext|><|endoftext|><|endoftext|><|endoftext|><|endoftext|><|endoftext|><|endoftext|><|endoftext|><|endoftext|><|endoftext|><|endoftext|><|endoftext|><|endoftext|><|endoftext|><|endoftext|><|endoftext|><|endoftext|><|endoftext|><|endoftext|><|endoftext|><|endoftext|><|endoftext|><|endoftext|><|endoftext|><|endoftext|><|endoftext|><|endoftext|><|endoftext|><|endoftext|><|endoftext|><|endoftext|><|endoftext|><|endoftext|><|endoftext|><|endoftext|><|endoftext|><|endoftext|><|endoftext|><|endoftext|><|endoftext|><|endoftext|><|endoftext|><|endoftext|><|endoftext|><|endoftext|><|endoftext|><|endoftext|><|endoftext|><|endoftext|><|endoftext|><|endoftext|><|endoftext|><|endoftext|><|endoftext|><|endoftext|><|endoftext|><|endoftext|><|endoftext|><|endoftext|><|endoftext|><|endoftext|><|endoftext|><|endoftext|><|endoftext|><|endoftext|><|endoftext|><|endoftext|><|endoftext|><|endoftext|><|endoftext|><|endoftext|><|endoftext|><|endoftext|><|endoftext|><|endoftext|><|endoftext|><|endoftext|><|endoftext|><|endoftext|><|endoftext|><|endoftext|><|endoftext|><|endoftext|><|endoftext|><|endoftext|>'"
      ]
     },
     "execution_count": 42,
     "metadata": {},
     "output_type": "execute_result"
    }
   ],
   "source": [
    "tokenizer.decode(data['train'][0]['input_ids'])"
   ]
  },
  {
   "cell_type": "code",
   "execution_count": 43,
   "id": "closing-currency",
   "metadata": {},
   "outputs": [
    {
     "data": {
      "text/plain": [
       "'Review: This product is the perfect brew every time and I can have my cold glass of tea in less than a minute!\\nSentiment: positive'"
      ]
     },
     "execution_count": 43,
     "metadata": {},
     "output_type": "execute_result"
    }
   ],
   "source": [
    "tokenizer.decode([c for c  in data['train'][0]['labels'] if c != -100])"
   ]
  },
  {
   "cell_type": "code",
   "execution_count": 44,
   "id": "loved-moral",
   "metadata": {},
   "outputs": [
    {
     "data": {
      "text/plain": [
       "256"
      ]
     },
     "execution_count": 44,
     "metadata": {},
     "output_type": "execute_result"
    }
   ],
   "source": [
    "len(data['train'][0]['input_ids'])"
   ]
  },
  {
   "cell_type": "code",
   "execution_count": 45,
   "id": "empirical-establishment",
   "metadata": {},
   "outputs": [
    {
     "data": {
      "text/plain": [
       "256"
      ]
     },
     "execution_count": 45,
     "metadata": {},
     "output_type": "execute_result"
    }
   ],
   "source": [
    "len(data['train'][0]['labels'])"
   ]
  },
  {
   "cell_type": "code",
   "execution_count": 46,
   "id": "grave-arena",
   "metadata": {},
   "outputs": [
    {
     "data": {
      "text/plain": [
       "256"
      ]
     },
     "execution_count": 46,
     "metadata": {},
     "output_type": "execute_result"
    }
   ],
   "source": [
    "len(data['train'][0]['attention_mask'])"
   ]
  },
  {
   "cell_type": "code",
   "execution_count": 47,
   "id": "changing-shuttle",
   "metadata": {
    "scrolled": true
   },
   "outputs": [
    {
     "data": {
      "text/plain": [
       "GPT2LMHeadModel(\n",
       "  (transformer): GPT2Model(\n",
       "    (wte): Embedding(50257, 768)\n",
       "    (wpe): Embedding(1024, 768)\n",
       "    (drop): Dropout(p=0.1, inplace=False)\n",
       "    (h): ModuleList(\n",
       "      (0): GPT2Block(\n",
       "        (ln_1): LayerNorm((768,), eps=1e-05, elementwise_affine=True)\n",
       "        (attn): GPT2Attention(\n",
       "          (c_attn): Conv1D()\n",
       "          (c_proj): Conv1D()\n",
       "          (attn_dropout): Dropout(p=0.1, inplace=False)\n",
       "          (resid_dropout): Dropout(p=0.1, inplace=False)\n",
       "        )\n",
       "        (ln_2): LayerNorm((768,), eps=1e-05, elementwise_affine=True)\n",
       "        (mlp): GPT2MLP(\n",
       "          (c_fc): Conv1D()\n",
       "          (c_proj): Conv1D()\n",
       "          (dropout): Dropout(p=0.1, inplace=False)\n",
       "        )\n",
       "      )\n",
       "      (1): GPT2Block(\n",
       "        (ln_1): LayerNorm((768,), eps=1e-05, elementwise_affine=True)\n",
       "        (attn): GPT2Attention(\n",
       "          (c_attn): Conv1D()\n",
       "          (c_proj): Conv1D()\n",
       "          (attn_dropout): Dropout(p=0.1, inplace=False)\n",
       "          (resid_dropout): Dropout(p=0.1, inplace=False)\n",
       "        )\n",
       "        (ln_2): LayerNorm((768,), eps=1e-05, elementwise_affine=True)\n",
       "        (mlp): GPT2MLP(\n",
       "          (c_fc): Conv1D()\n",
       "          (c_proj): Conv1D()\n",
       "          (dropout): Dropout(p=0.1, inplace=False)\n",
       "        )\n",
       "      )\n",
       "      (2): GPT2Block(\n",
       "        (ln_1): LayerNorm((768,), eps=1e-05, elementwise_affine=True)\n",
       "        (attn): GPT2Attention(\n",
       "          (c_attn): Conv1D()\n",
       "          (c_proj): Conv1D()\n",
       "          (attn_dropout): Dropout(p=0.1, inplace=False)\n",
       "          (resid_dropout): Dropout(p=0.1, inplace=False)\n",
       "        )\n",
       "        (ln_2): LayerNorm((768,), eps=1e-05, elementwise_affine=True)\n",
       "        (mlp): GPT2MLP(\n",
       "          (c_fc): Conv1D()\n",
       "          (c_proj): Conv1D()\n",
       "          (dropout): Dropout(p=0.1, inplace=False)\n",
       "        )\n",
       "      )\n",
       "      (3): GPT2Block(\n",
       "        (ln_1): LayerNorm((768,), eps=1e-05, elementwise_affine=True)\n",
       "        (attn): GPT2Attention(\n",
       "          (c_attn): Conv1D()\n",
       "          (c_proj): Conv1D()\n",
       "          (attn_dropout): Dropout(p=0.1, inplace=False)\n",
       "          (resid_dropout): Dropout(p=0.1, inplace=False)\n",
       "        )\n",
       "        (ln_2): LayerNorm((768,), eps=1e-05, elementwise_affine=True)\n",
       "        (mlp): GPT2MLP(\n",
       "          (c_fc): Conv1D()\n",
       "          (c_proj): Conv1D()\n",
       "          (dropout): Dropout(p=0.1, inplace=False)\n",
       "        )\n",
       "      )\n",
       "      (4): GPT2Block(\n",
       "        (ln_1): LayerNorm((768,), eps=1e-05, elementwise_affine=True)\n",
       "        (attn): GPT2Attention(\n",
       "          (c_attn): Conv1D()\n",
       "          (c_proj): Conv1D()\n",
       "          (attn_dropout): Dropout(p=0.1, inplace=False)\n",
       "          (resid_dropout): Dropout(p=0.1, inplace=False)\n",
       "        )\n",
       "        (ln_2): LayerNorm((768,), eps=1e-05, elementwise_affine=True)\n",
       "        (mlp): GPT2MLP(\n",
       "          (c_fc): Conv1D()\n",
       "          (c_proj): Conv1D()\n",
       "          (dropout): Dropout(p=0.1, inplace=False)\n",
       "        )\n",
       "      )\n",
       "      (5): GPT2Block(\n",
       "        (ln_1): LayerNorm((768,), eps=1e-05, elementwise_affine=True)\n",
       "        (attn): GPT2Attention(\n",
       "          (c_attn): Conv1D()\n",
       "          (c_proj): Conv1D()\n",
       "          (attn_dropout): Dropout(p=0.1, inplace=False)\n",
       "          (resid_dropout): Dropout(p=0.1, inplace=False)\n",
       "        )\n",
       "        (ln_2): LayerNorm((768,), eps=1e-05, elementwise_affine=True)\n",
       "        (mlp): GPT2MLP(\n",
       "          (c_fc): Conv1D()\n",
       "          (c_proj): Conv1D()\n",
       "          (dropout): Dropout(p=0.1, inplace=False)\n",
       "        )\n",
       "      )\n",
       "    )\n",
       "    (ln_f): LayerNorm((768,), eps=1e-05, elementwise_affine=True)\n",
       "  )\n",
       "  (lm_head): Linear(in_features=768, out_features=50257, bias=False)\n",
       ")"
      ]
     },
     "execution_count": 47,
     "metadata": {},
     "output_type": "execute_result"
    }
   ],
   "source": [
    "from transformers import Trainer, TrainingArguments\n",
    "from transformers import GPT2LMHeadModel\n",
    "\n",
    "model = GPT2LMHeadModel.from_pretrained(MODEL)\n",
    "\n",
    "# Update the model embeddings with the new vocabulary size IF we added new special tokens\n",
    "# model.resize_token_embeddings(len(tokenizer))\n",
    "\n",
    "model"
   ]
  },
  {
   "cell_type": "code",
   "execution_count": 48,
   "id": "studied-pearl",
   "metadata": {},
   "outputs": [],
   "source": [
    "training_args = TrainingArguments(\n",
    "    output_dir=\"./gpt2_multitask\", #The output directory\n",
    "    overwrite_output_dir=True, #overwrite the content of the output directory\n",
    "    num_train_epochs=4, # number of training epochs\n",
    "    per_device_train_batch_size=64, # batch size for training\n",
    "    per_device_eval_batch_size=64,  # batch size for evaluation\n",
    "    warmup_steps=50,  # number of warmup steps for learning rate scheduler,\n",
    "    weight_decay = 0.05,\n",
    "    logging_steps=5\n",
    ")\n",
    "\n",
    "trainer = Trainer(\n",
    "    model=model,\n",
    "    args=training_args,\n",
    "    train_dataset=data['train'],\n",
    "    eval_dataset=data['test'],\n",
    ")"
   ]
  },
  {
   "cell_type": "code",
   "execution_count": 49,
   "id": "minute-variation",
   "metadata": {},
   "outputs": [
    {
     "name": "stderr",
     "output_type": "stream",
     "text": [
      "The following columns in the evaluation set  don't have a corresponding argument in `GPT2LMHeadModel.forward` and have been ignored: text.\n",
      "***** Running Evaluation *****\n",
      "  Num examples = 27\n",
      "  Batch size = 64\n"
     ]
    },
    {
     "data": {
      "text/html": [
       "\n",
       "    <div>\n",
       "      \n",
       "      <progress value='1' max='1' style='width:300px; height:20px; vertical-align: middle;'></progress>\n",
       "      [1/1 : < :]\n",
       "    </div>\n",
       "    "
      ],
      "text/plain": [
       "<IPython.core.display.HTML object>"
      ]
     },
     "metadata": {},
     "output_type": "display_data"
    },
    {
     "data": {
      "text/plain": [
       "{'eval_loss': 4.274802207946777,\n",
       " 'eval_runtime': 22.1977,\n",
       " 'eval_samples_per_second': 1.216,\n",
       " 'eval_steps_per_second': 0.045}"
      ]
     },
     "execution_count": 49,
     "metadata": {},
     "output_type": "execute_result"
    }
   ],
   "source": [
    "trainer.evaluate()"
   ]
  },
  {
   "cell_type": "code",
   "execution_count": null,
   "id": "similar-maximum",
   "metadata": {},
   "outputs": [
    {
     "name": "stderr",
     "output_type": "stream",
     "text": [
      "The following columns in the training set  don't have a corresponding argument in `GPT2LMHeadModel.forward` and have been ignored: text.\n",
      "***** Running training *****\n",
      "  Num examples = 105\n",
      "  Num Epochs = 4\n",
      "  Instantaneous batch size per device = 64\n",
      "  Total train batch size (w. parallel, distributed & accumulation) = 64\n",
      "  Gradient Accumulation steps = 1\n",
      "  Total optimization steps = 8\n"
     ]
    },
    {
     "data": {
      "text/html": [
       "\n",
       "    <div>\n",
       "      \n",
       "      <progress value='3' max='8' style='width:300px; height:20px; vertical-align: middle;'></progress>\n",
       "      [3/8 02:00 < 10:01, 0.01 it/s, Epoch 1/4]\n",
       "    </div>\n",
       "    <table border=\"1\" class=\"dataframe\">\n",
       "  <thead>\n",
       "    <tr style=\"text-align: left;\">\n",
       "      <th>Step</th>\n",
       "      <th>Training Loss</th>\n",
       "    </tr>\n",
       "  </thead>\n",
       "  <tbody>\n",
       "  </tbody>\n",
       "</table><p>"
      ],
      "text/plain": [
       "<IPython.core.display.HTML object>"
      ]
     },
     "metadata": {},
     "output_type": "display_data"
    }
   ],
   "source": [
    "trainer.train()"
   ]
  },
  {
   "cell_type": "code",
   "execution_count": null,
   "id": "controversial-albania",
   "metadata": {},
   "outputs": [],
   "source": [
    "trainer.evaluate()"
   ]
  },
  {
   "cell_type": "code",
   "execution_count": null,
   "id": "concerned-hierarchy",
   "metadata": {},
   "outputs": [],
   "source": [
    "trainer.save_model()"
   ]
  },
  {
   "cell_type": "code",
   "execution_count": null,
   "id": "affected-motorcycle",
   "metadata": {},
   "outputs": [],
   "source": [
    "from transformers import pipeline\n",
    "\n",
    "loaded_model = GPT2LMHeadModel.from_pretrained('./gpt2_multitask')\n",
    "\n",
    "generator = pipeline(\n",
    "    'text-generation', model=loaded_model, tokenizer=tokenizer,\n",
    "    config={'max_length': 200,  'do_sample': False}\n",
    ")"
   ]
  },
  {
   "cell_type": "code",
   "execution_count": null,
   "id": "treated-steps",
   "metadata": {},
   "outputs": [],
   "source": [
    "random.sample(data['test'])['text']"
   ]
  },
  {
   "cell_type": "code",
   "execution_count": null,
   "id": "overhead-target",
   "metadata": {},
   "outputs": [],
   "source": [
    "text_sample, score, summary = reviews_sample.sample(1)[['Text', 'Sentiment', 'Summary']].values[0]\n",
    "\n",
    "print(text_sample)\n",
    "print(score)\n",
    "print(summary)"
   ]
  },
  {
   "cell_type": "code",
   "execution_count": null,
   "id": "governing-savannah",
   "metadata": {},
   "outputs": [],
   "source": [
    "num_tokens = len(tokenizer(text_sample)['input_ids'])\n",
    "num_tokens"
   ]
  },
  {
   "cell_type": "code",
   "execution_count": null,
   "id": "potential-disclaimer",
   "metadata": {},
   "outputs": [],
   "source": [
    "sentiment_text_sample = f'Review: {text_sample}{SENTIMENT_TOKEN}'\n",
    "summarize_text_sample = f'Review: {text_sample}{SUMMARIZE_TOKEN}'\n",
    "\n",
    "print(sentiment_text_sample)\n",
    "print(summarize_text_sample)"
   ]
  },
  {
   "cell_type": "code",
   "execution_count": null,
   "id": "coordinate-advertising",
   "metadata": {},
   "outputs": [],
   "source": [
    "encoded_input = tokenizer(sentiment_text_sample, return_tensors='pt')\n",
    "    \n",
    "print(tokenizer.decode(loaded_model.generate(\n",
    "        input_ids=encoded_input['input_ids'],\n",
    "        max_length=encoded_input['input_ids'].shape[1] + 1,\n",
    "        temperature=0.2,\n",
    "        top_k=2\n",
    "    )[0]))"
   ]
  },
  {
   "cell_type": "code",
   "execution_count": null,
   "id": "recovered-adapter",
   "metadata": {},
   "outputs": [],
   "source": [
    "encoded_input = tokenizer(summarize_text_sample, return_tensors='pt')\n",
    "    \n",
    "print(tokenizer.decode(loaded_model.generate(\n",
    "        input_ids=encoded_input['input_ids'],\n",
    "        max_length=len(encoded_input['input_ids']) + 15,\n",
    "        temperature=0.5,\n",
    "        beams=2,\n",
    "        top_k=10,\n",
    "        no_repeat_ngram_size=2,\n",
    "    )[0], skip_special_tokens=True))"
   ]
  },
  {
   "cell_type": "code",
   "execution_count": null,
   "id": "other-sigma",
   "metadata": {},
   "outputs": [],
   "source": [
    "for generated_text in generator(sentiment_text_sample, num_return_sequences=2, max_length=num_tokens + 1):\n",
    "    print(generated_text['generated_text'])\n",
    "    "
   ]
  },
  {
   "cell_type": "code",
   "execution_count": null,
   "id": "modern-nylon",
   "metadata": {},
   "outputs": [],
   "source": [
    "for generated_text in generator(summarize_text_sample, num_return_sequences=2, max_length=num_tokens + 15):\n",
    "    print(generated_text['generated_text'])\n",
    "    "
   ]
  },
  {
   "cell_type": "code",
   "execution_count": null,
   "id": "ranking-links",
   "metadata": {},
   "outputs": [],
   "source": []
  },
  {
   "cell_type": "code",
   "execution_count": null,
   "id": "reduced-grass",
   "metadata": {},
   "outputs": [],
   "source": []
  },
  {
   "cell_type": "code",
   "execution_count": null,
   "id": "cheap-promotion",
   "metadata": {},
   "outputs": [],
   "source": []
  }
 ],
 "metadata": {
  "kernelspec": {
   "display_name": "Python 3",
   "language": "python",
   "name": "python3"
  },
  "language_info": {
   "codemirror_mode": {
    "name": "ipython",
    "version": 3
   },
   "file_extension": ".py",
   "mimetype": "text/x-python",
   "name": "python",
   "nbconvert_exporter": "python",
   "pygments_lexer": "ipython3",
   "version": "3.9.7"
  }
 },
 "nbformat": 4,
 "nbformat_minor": 5
}
